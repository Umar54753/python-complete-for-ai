{
 "cells": [
  {
   "cell_type": "markdown",
   "metadata": {},
   "source": [
    "# Python Projects"
   ]
  },
  {
   "cell_type": "markdown",
   "metadata": {},
   "source": [
    "## Beginner Projects"
   ]
  },
  {
   "cell_type": "markdown",
   "metadata": {},
   "source": [
    "### 1. Number Guessing Game"
   ]
  },
  {
   "cell_type": "code",
   "execution_count": null,
   "metadata": {},
   "outputs": [],
   "source": [
    "# Number Guessing Game\n",
    "import random\n",
    "\n",
    "number_to_guess = random.randint(1, 100)\n",
    "guess = None\n",
    "\n",
    "while guess != number_to_guess:\n",
    "    guess = int(input('Guess a number between 1 and 100: '))\n",
    "    if guess < number_to_guess:\n",
    "        print('Too low!')\n",
    "    elif guess > number_to_guess:\n",
    "        print('Too high!')\n",
    "    else:\n",
    "        print('Congratulations! You guessed the number.')"
   ]
  },
  {
   "cell_type": "markdown",
   "metadata": {},
   "source": [
    "### 2. Simple Calculator"
   ]
  },
  {
   "cell_type": "code",
   "execution_count": null,
   "metadata": {},
   "outputs": [],
   "source": [
    "# Simple Calculator\n",
    "def add(x, y):\n",
    "    return x + y\n",
    "\n",
    "def subtract(x, y):\n",
    "    return x - y\n",
    "\n",
    "def multiply(x, y):\n",
    "    return x * y\n",
    "\n",
    "def divide(x, y):\n",
    "    if y == 0:\n",
    "        return 'Cannot divide by zero'\n",
    "    return x / y\n",
    "\n",
    "print('Select operation:')\n",
    "print('1. Add')\n",
    "print('2. Subtract')\n",
    "print('3. Multiply')\n",
    "print('4. Divide')\n",
    "\n",
    "choice = input('Enter choice(1/2/3/4): ')\n",
    "num1 = float(input('Enter first number: '))\n",
    "num2 = float(input('Enter second number: '))\n",
    "\n",
    "if choice == '1':\n",
    "    print(f'{num1} + {num2} = {add(num1, num2)}')\n",
    "elif choice == '2':\n",
    "    print(f'{num1} - {num2} = {subtract(num1, num2)}')\n",
    "elif choice == '3':\n",
    "    print(f'{num1} * {num2} = {multiply(num1, num2)}')\n",
    "elif choice == '4':\n",
    "    print(f'{num1} / {num2} = {divide(num1, num2)}')\n",
    "else:\n",
    "    print('Invalid input')"
   ]
  },
  {
   "cell_type": "markdown",
   "metadata": {},
   "source": [
    "## Intermediate Projects"
   ]
  },
  {
   "cell_type": "markdown",
   "metadata": {},
   "source": [
    "### 3. To-Do List Application"
   ]
  },
  {
   "cell_type": "code",
   "execution_count": null,
   "metadata": {},
   "outputs": [],
   "source": [
    "# To-Do List Application\n",
    "tasks = []\n",
    "\n",
    "def add_task(task):\n",
    "    tasks.append(task)\n",
    "    print(f'Task \"{task}\" added.')\n",
    "\n",
    "def remove_task(task):\n",
    "    if task in tasks:\n",
    "        tasks.remove(task)\n",
    "        print(f'Task \"{task}\" removed.')\n",
    "    else:\n",
    "        print(f'Task \"{task}\" not found.')\n",
    "\n",
    "def show_tasks():\n",
    "    print('To-Do List:')\n",
    "    for task in tasks:\n",
    "        print(f'- {task}')\n",
    "\n",
    "while True:\n",
    "    print('\\nOptions:')\n",
    "    print('1. Add task')\n",
    "    print('2. Remove task')\n",
    "    print('3. Show tasks')\n",
    "    print('4. Exit')\n",
    "    choice = input('Enter choice: ')\n",
    "\n",
    "    if choice == '1':\n",
    "        task = input('Enter task: ')\n",
    "        add_task(task)\n",
    "    elif choice == '2':\n",
    "        task = input('Enter task to remove: ')\n",
    "        remove_task(task)\n",
    "    elif choice == '3':\n",
    "        show_tasks()\n",
    "    elif choice == '4':\n",
    "        break\n",
    "    else:\n",
    "        print('Invalid choice')"
   ]
  },
  {
   "cell_type": "markdown",
   "metadata": {},
   "source": [
    "### 4. Contact Book"
   ]
  },
  {
   "cell_type": "code",
   "execution_count": null,
   "metadata": {},
   "outputs": [],
   "source": [
    "# Contact Book\n",
    "contacts = {}\n",
    "\n",
    "def add_contact(name, phone):\n",
    "    contacts[name] = phone\n",
    "    print(f'Contact \"{name}\" added.')\n",
    "\n",
    "def remove_contact(name):\n",
    "    if name in contacts:\n",
    "        del contacts[name]\n",
    "        print(f'Contact \"{name}\" removed.')\n",
    "    else:\n",
    "        print(f'Contact \"{name}\" not found.')\n",
    "\n",
    "def show_contacts():\n",
    "    print('Contact Book:')\n",
    "    for name, phone in contacts.items():\n",
    "        print(f'{name}: {phone}')\n",
    "\n",
    "while True:\n",
    "    print('\\nOptions:')\n",
    "    print('1. Add contact')\n",
    "    print('2. Remove contact')\n",
    "    print('3. Show contacts')\n",
    "    print('4. Exit')\n",
    "    choice = input('Enter choice: ')\n",
    "\n",
    "    if choice == '1':\n",
    "        name = input('Enter name: ')\n",
    "        phone = input('Enter phone number: ')\n",
    "        add_contact(name, phone)\n",
    "    elif choice == '2':\n",
    "        name = input('Enter name to remove: ')\n",
    "        remove_contact(name)\n",
    "    elif choice == '3':\n",
    "        show_contacts()\n",
    "    elif choice == '4':\n",
    "        break\n",
    "    else:\n",
    "        print('Invalid choice')"
   ]
  },
  {
   "cell_type": "markdown",
   "metadata": {},
   "source": [
    "## Advanced Project"
   ]
  },
  {
   "cell_type": "markdown",
   "metadata": {},
   "source": [
    "### 5. Web Scraper"
   ]
  },
  {
   "cell_type": "code",
   "execution_count": null,
   "metadata": {},
   "outputs": [],
   "source": [
    "# Web Scraper\n",
    "import requests\n",
    "from bs4 import BeautifulSoup\n",
    "\n",
    "def scrape_website(url):\n",
    "    response = requests.get(url)\n",
    "    if response.status_code == 200:\n",
    "        soup = BeautifulSoup(response.content, 'html.parser')\n",
    "        return soup\n",
    "    else:\n",
    "        return None\n",
    "\n",
    "url = 'https://example.com'\n",
    "soup = scrape_website(url)\n",
    "\n",
    "if soup:\n",
    "    print('Website Title:', soup.title.string)\n",
    "    print('First Paragraph:', soup.p.text)\n",
    "else:\n",
    "    print('Failed to retrieve the website')"
   ]
  }
 ],
 "metadata": {
  "kernelspec": {
   "display_name": "Python 3",
   "language": "python",
   "name": "python3"
  },
  "language_info": {
   "codemirror_mode": {
    "name": "ipython",
    "version": 3
   },
   "file_extension": ".py",
   "mimetype": "text/x-python",
   "name": "python",
   "nbconvert_exporter": "python",
   "pygments_lexer": "ipython3",
   "version": "3.13.1"
  }
 },
 "nbformat": 4,
 "nbformat_minor": 2
}
